{
 "cells": [
  {
   "cell_type": "code",
   "execution_count": 1,
   "metadata": {},
   "outputs": [],
   "source": [
    "import editdistance\n",
    "from collections import Counter"
   ]
  },
  {
   "cell_type": "markdown",
   "metadata": {},
   "source": [
    "## JAVA"
   ]
  },
  {
   "cell_type": "code",
   "execution_count": 2,
   "metadata": {},
   "outputs": [
    {
     "data": {
      "text/plain": [
       "Counter({0: 3290,\n",
       "         1: 15469,\n",
       "         2: 15248,\n",
       "         3: 11289,\n",
       "         4: 6410,\n",
       "         5: 2789,\n",
       "         6: 1426,\n",
       "         7: 621,\n",
       "         8: 299,\n",
       "         9: 124,\n",
       "         10: 59,\n",
       "         11: 38,\n",
       "         12: 19,\n",
       "         13: 5,\n",
       "         14: 1,\n",
       "         15: 2})"
      ]
     },
     "execution_count": 2,
     "metadata": {},
     "output_type": "execute_result"
    }
   ],
   "source": [
    "with open('java_data/tgt.test.txt', 'r', encoding='utf-8') as f:\n",
    "    true_name = f.read().split('\\n')\n",
    "    \n",
    "with open('code2cap/pred/method name prediction/java_ast.pred.txt', 'r', encoding='utf-8') as f:\n",
    "    pred_name = f.read().split('\\n')\n",
    "\n",
    "pred_names = [x.split(' ') for x in pred_name ]\n",
    "true_names = [x.split('|') for x in true_name ]\n",
    "\n",
    "e_dist = []\n",
    "for true, pred in zip(true_names, pred_names):\n",
    "    e_dist.append(editdistance.eval(true, pred))\n",
    "\n",
    "Counter(e_dist)"
   ]
  },
  {
   "cell_type": "markdown",
   "metadata": {},
   "source": [
    "## Python"
   ]
  },
  {
   "cell_type": "code",
   "execution_count": 3,
   "metadata": {},
   "outputs": [
    {
     "data": {
      "text/plain": [
       "Counter({0: 5, 1: 115, 2: 345, 3: 197, 4: 23, 5: 5, 6: 1})"
      ]
     },
     "execution_count": 3,
     "metadata": {},
     "output_type": "execute_result"
    }
   ],
   "source": [
    "with open('code2cap\\data\\python_ast\\decl_test.txt','r', encoding='utf-8') as f:\n",
    "    true_name = f.read().split('\\n')\n",
    "    \n",
    "with open('code2cap/pred/method name prediction/python_ast.pred.txt', 'r', encoding='utf-8') as f:\n",
    "    pred_name = f.read().split('\\n')\n",
    "\n",
    "pred_names = [x.split(' ') for x in pred_name ]\n",
    "true_names = [x.split('|') for x in true_name ]\n",
    "\n",
    "e_dist = []\n",
    "for true, pred in zip(true_names, pred_names):\n",
    "    e_dist.append(editdistance.eval(true, pred))\n",
    "    \n",
    "Counter(e_dist)"
   ]
  },
  {
   "cell_type": "code",
   "execution_count": null,
   "metadata": {},
   "outputs": [],
   "source": []
  },
  {
   "cell_type": "code",
   "execution_count": null,
   "metadata": {},
   "outputs": [],
   "source": []
  },
  {
   "cell_type": "code",
   "execution_count": null,
   "metadata": {},
   "outputs": [],
   "source": []
  },
  {
   "cell_type": "code",
   "execution_count": null,
   "metadata": {},
   "outputs": [],
   "source": []
  },
  {
   "cell_type": "code",
   "execution_count": null,
   "metadata": {},
   "outputs": [],
   "source": []
  },
  {
   "cell_type": "code",
   "execution_count": null,
   "metadata": {},
   "outputs": [],
   "source": []
  },
  {
   "cell_type": "code",
   "execution_count": null,
   "metadata": {},
   "outputs": [],
   "source": []
  },
  {
   "cell_type": "code",
   "execution_count": null,
   "metadata": {},
   "outputs": [],
   "source": []
  }
 ],
 "metadata": {
  "kernelspec": {
   "display_name": "Python 3",
   "language": "python",
   "name": "python3"
  },
  "language_info": {
   "codemirror_mode": {
    "name": "ipython",
    "version": 3
   },
   "file_extension": ".py",
   "mimetype": "text/x-python",
   "name": "python",
   "nbconvert_exporter": "python",
   "pygments_lexer": "ipython3",
   "version": "3.5.5"
  }
 },
 "nbformat": 4,
 "nbformat_minor": 2
}
