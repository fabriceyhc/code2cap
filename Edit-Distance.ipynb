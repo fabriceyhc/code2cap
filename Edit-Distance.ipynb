{
 "cells": [
  {
   "cell_type": "code",
   "execution_count": 14,
   "metadata": {},
   "outputs": [],
   "source": [
    "import editdistance\n",
    "from collections import Counter\n",
    "import scipy"
   ]
  },
  {
   "cell_type": "code",
   "execution_count": null,
   "metadata": {},
   "outputs": [],
   "source": [
    "def unique_common_items(list1, list2):\n",
    "    # Produce the set of *unique* common items in two lists.\n",
    "    return list(set(list1) & set(list2))"
   ]
  },
  {
   "cell_type": "markdown",
   "metadata": {},
   "source": [
    "## JAVA"
   ]
  },
  {
   "cell_type": "code",
   "execution_count": 19,
   "metadata": {},
   "outputs": [],
   "source": [
    "with open('java_data/tgt.test.txt', 'r', encoding='utf-8') as f:\n",
    "    true_name = f.read().split('\\n')\n",
    "    \n",
    "with open('pred/method name prediction/java_ast.pred.txt', 'r', encoding='utf-8') as f:\n",
    "    pred_name = f.read().split('\\n')\n",
    "\n",
    "pred_names = [x.split(' ') for x in pred_name ]\n",
    "true_names = [x.split('|') for x in true_name ]\n",
    "\n",
    "e_dist = []\n",
    "true_len = []\n",
    "correct_pred = []\n",
    "accuracy = []\n",
    "\n",
    "for true, pred in zip(true_names, pred_names):\n",
    "    t = len(true)\n",
    "    c = len(unique_common_items(true, pred))\n",
    "    a = c/t\n",
    "    true_len.append(t)\n",
    "    correct_pred.append(c)\n",
    "    accuracy.append(a)\n",
    "    e_dist.append(editdistance.eval(true, pred))"
   ]
  },
  {
   "cell_type": "code",
   "execution_count": 20,
   "metadata": {},
   "outputs": [
    {
     "data": {
      "text/plain": [
       "Counter({0: 3290,\n",
       "         1: 15469,\n",
       "         2: 15248,\n",
       "         3: 11289,\n",
       "         4: 6410,\n",
       "         5: 2789,\n",
       "         6: 1426,\n",
       "         7: 621,\n",
       "         8: 299,\n",
       "         9: 124,\n",
       "         10: 59,\n",
       "         11: 38,\n",
       "         12: 19,\n",
       "         13: 5,\n",
       "         14: 1,\n",
       "         15: 2})"
      ]
     },
     "execution_count": 20,
     "metadata": {},
     "output_type": "execute_result"
    }
   ],
   "source": [
    "Counter(e_dist)"
   ]
  },
  {
   "cell_type": "code",
   "execution_count": 21,
   "metadata": {},
   "outputs": [
    {
     "data": {
      "text/plain": [
       "Counter({0.0: 45190,\n",
       "         0.08333333333333333: 4,\n",
       "         0.09090909090909091: 3,\n",
       "         0.1: 18,\n",
       "         0.1111111111111111: 40,\n",
       "         0.125: 71,\n",
       "         0.14285714285714285: 161,\n",
       "         0.16666666666666666: 286,\n",
       "         0.2: 530,\n",
       "         0.25: 1084,\n",
       "         0.2857142857142857: 11,\n",
       "         0.3333333333333333: 2107,\n",
       "         0.4: 98,\n",
       "         0.42857142857142855: 3,\n",
       "         0.5: 2443,\n",
       "         0.5714285714285714: 1,\n",
       "         0.6: 47,\n",
       "         0.6666666666666666: 1102,\n",
       "         0.75: 267,\n",
       "         0.8: 8,\n",
       "         1.0: 3615})"
      ]
     },
     "execution_count": 21,
     "metadata": {},
     "output_type": "execute_result"
    }
   ],
   "source": [
    "Counter(accuracy)"
   ]
  },
  {
   "cell_type": "markdown",
   "metadata": {},
   "source": [
    "## Python"
   ]
  },
  {
   "cell_type": "code",
   "execution_count": 23,
   "metadata": {},
   "outputs": [],
   "source": [
    "with open('data/python_ast/decl_test.txt','r', encoding='utf-8') as f:\n",
    "    true_name = f.read().split('\\n')\n",
    "    \n",
    "with open('pred/method name prediction/python_ast.pred.txt', 'r', encoding='utf-8') as f:\n",
    "    pred_name = f.read().split('\\n')\n",
    "\n",
    "pred_names = [x.split(' ') for x in pred_name ]\n",
    "true_names = [x.split('|') for x in true_name ]\n",
    "\n",
    "e_dist = []\n",
    "true_len = []\n",
    "correct_pred = []\n",
    "accuracy = []\n",
    "\n",
    "for true, pred in zip(true_names, pred_names):\n",
    "    t = len(true)\n",
    "    c = len(unique_common_items(true, pred))\n",
    "    a = c/t\n",
    "    true_len.append(t)\n",
    "    correct_pred.append(c)\n",
    "    accuracy.append(a)\n",
    "    e_dist.append(editdistance.eval(true, pred))"
   ]
  },
  {
   "cell_type": "code",
   "execution_count": 24,
   "metadata": {},
   "outputs": [
    {
     "data": {
      "text/plain": [
       "Counter({0: 5, 1: 115, 2: 345, 3: 197, 4: 23, 5: 5, 6: 1})"
      ]
     },
     "execution_count": 24,
     "metadata": {},
     "output_type": "execute_result"
    }
   ],
   "source": [
    "Counter(e_dist)"
   ]
  },
  {
   "cell_type": "code",
   "execution_count": 25,
   "metadata": {},
   "outputs": [
    {
     "data": {
      "text/plain": [
       "Counter({0.0: 682, 1.0: 9})"
      ]
     },
     "execution_count": 25,
     "metadata": {},
     "output_type": "execute_result"
    }
   ],
   "source": [
    "Counter(accuracy)"
   ]
  },
  {
   "cell_type": "code",
   "execution_count": null,
   "metadata": {},
   "outputs": [],
   "source": []
  },
  {
   "cell_type": "code",
   "execution_count": null,
   "metadata": {},
   "outputs": [],
   "source": []
  },
  {
   "cell_type": "code",
   "execution_count": null,
   "metadata": {},
   "outputs": [],
   "source": []
  },
  {
   "cell_type": "code",
   "execution_count": null,
   "metadata": {},
   "outputs": [],
   "source": []
  },
  {
   "cell_type": "code",
   "execution_count": null,
   "metadata": {},
   "outputs": [],
   "source": []
  },
  {
   "cell_type": "code",
   "execution_count": null,
   "metadata": {},
   "outputs": [],
   "source": []
  }
 ],
 "metadata": {
  "kernelspec": {
   "display_name": "Python 3",
   "language": "python",
   "name": "python3"
  },
  "language_info": {
   "codemirror_mode": {
    "name": "ipython",
    "version": 3
   },
   "file_extension": ".py",
   "mimetype": "text/x-python",
   "name": "python",
   "nbconvert_exporter": "python",
   "pygments_lexer": "ipython3",
   "version": "3.5.5"
  }
 },
 "nbformat": 4,
 "nbformat_minor": 2
}
